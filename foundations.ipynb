{
 "cells": [
  {
   "cell_type": "markdown",
   "metadata": {},
   "source": [
    "# Google Tech Dev Guide \n",
    "## Foundations\n",
    "This notebook contains my solutions for problems from Foundations Path of Google Dev Tech Guide"
   ]
  },
  {
   "cell_type": "markdown",
   "metadata": {},
   "source": [
    "The Challenge\n",
    "Given a string S and a set of words D, find the longest word in D that is a subsequence of S.\n",
    "\n",
    "Word W is a subsequence of S if some number of characters, possibly zero, can be deleted from S to form W,  \n",
    "without reordering the remaining characters.\n",
    "\n",
    "Note: D can appear in any format (list, hash table, prefix tree, etc.\n",
    "\n",
    "For example, given the input of S = \"abppplee\" and D = {\"able\", \"ale\", \"apple\", \"bale\", \"kangaroo\"} the correct output would be \"apple\"\n",
    "\n",
    "The words \"able\" and \"ale\" are both subsequences of S, but they are shorter than \"apple\".\n",
    "The word \"bale\" is not a subsequence of S because even though S has all the right letters, they are not in the right order.\n",
    "The word \"kangaroo\" is the longest word in D, but it isn't a subsequence of S."
   ]
  },
  {
   "cell_type": "code",
   "execution_count": 2,
   "metadata": {},
   "outputs": [
    {
     "name": "stdout",
     "output_type": "stream",
     "text": [
      "apple\n"
     ]
    }
   ],
   "source": [
    "def find(char, string):\n",
    "    for i in range(len(string)):\n",
    "        if char == string[i]:\n",
    "            return i\n",
    "    return -1\n",
    "\n",
    "\n",
    "def is_substring(letters: str, string: str):\n",
    "    i = 0\n",
    "    positions = []\n",
    "    while len(letters) != 0 and i != len(string):\n",
    "        char = string[i]\n",
    "        char_index = find(char, letters)\n",
    "        if char_index == -1:\n",
    "            return False\n",
    "        else:\n",
    "            letters = letters[char_index:]\n",
    "            positions.append(char_index)\n",
    "        i += 1\n",
    "    return len(positions) == len(string)\n",
    "\n",
    "\n",
    "def find_longest_word_in_string(letters, words):\n",
    "    \"\"\"\n",
    "    :param letters: string which should be analyzed for subwords\n",
    "    :param words: list of words against which analysis should be conduct\n",
    "    :return: the longest subword of string from words\n",
    "    \"\"\"\n",
    "    # Define some useful values\n",
    "    # First iterating through the list of words\n",
    "    for word in sorted(words, key=lambda x: len(x), reverse=True):\n",
    "        if is_substring(letters, word):\n",
    "            return word\n",
    "    return None\n",
    "\n",
    "\n",
    "S = \"abppplee\"\n",
    "D = {\"able\", \"ale\", \"apple\", \"bale\", \"kangaroo\"}\n",
    "print(find_longest_word_in_string(S, D))\n",
    "assert find_longest_word_in_string(S, D) == 'apple'\n"
   ]
  },
  {
   "cell_type": "markdown",
   "metadata": {},
   "source": [
    "#### Challenge \n",
    "Given a non-empty string like \"Code\" return a string like \"CCoCodCode\"."
   ]
  },
  {
   "cell_type": "code",
   "execution_count": 3,
   "metadata": {},
   "outputs": [],
   "source": [
    "def string_splosion(string):\n",
    "    \"\"\"\n",
    "    \n",
    "    :param string: non-empty string\n",
    "    :return: resulting string\n",
    "    \"\"\"\n",
    "    result = ''\n",
    "    for i in range(len(string) + 1):\n",
    "        result += string[:i]\n",
    "    return result"
   ]
  },
  {
   "cell_type": "markdown",
   "metadata": {},
   "source": [
    "#### maxSpan Challenge\n",
    "Consider the leftmost and righmost appearances of some value in an array. We'll say that the \"span\" is the number of elements between the two inclusive.  A single value has a span of 1.  Returns the largest span found in the given array. (Efficiency is not a priority.)"
   ]
  },
  {
   "cell_type": "code",
   "execution_count": 6,
   "metadata": {},
   "outputs": [],
   "source": [
    "from collections import defaultdict\n",
    "\n",
    "\n",
    "def maxSpan(user_list):\n",
    "    if user_list:\n",
    "        index = defaultdict(list)\n",
    "        for i, int in enumerate(user_list):\n",
    "            index[int].append(i)\n",
    "        return max(map(lambda x: max(index[x]) - min(index[x]) + 1, index))\n",
    "    else:\n",
    "        return 0\n",
    "        \n",
    "\n",
    "assert maxSpan([1, 2, 1, 1]) == 4\n",
    "assert maxSpan([1, 4, 2, 1, 4, 1, 4]) == 6\n",
    "assert maxSpan([1, 4, 2, 1, 4, 4, 4]) == 6"
   ]
  },
  {
   "cell_type": "code",
   "execution_count": null,
   "metadata": {},
   "outputs": [],
   "source": []
  }
 ],
 "metadata": {
  "kernelspec": {
   "display_name": "Python 2",
   "language": "python",
   "name": "python2"
  },
  "language_info": {
   "codemirror_mode": {
    "name": "ipython",
    "version": 2
   },
   "file_extension": ".py",
   "mimetype": "text/x-python",
   "name": "python",
   "nbconvert_exporter": "python",
   "pygments_lexer": "ipython2",
   "version": "2.7.6"
  }
 },
 "nbformat": 4,
 "nbformat_minor": 0
}
